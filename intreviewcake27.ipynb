{
 "cells": [
  {
   "cell_type": "code",
   "execution_count": 21,
   "metadata": {
    "collapsed": false
   },
   "outputs": [
    {
     "data": {
      "text/plain": [
       "'gnihtemos evah uoy fi'"
      ]
     },
     "execution_count": 21,
     "metadata": {},
     "output_type": "execute_result"
    }
   ],
   "source": [
    "##interview cake 27\n",
    "message = \"if you have something\"\n",
    "l = list(message)\n",
    "\"\".join(l[::-1])"
   ]
  },
  {
   "cell_type": "code",
   "execution_count": 26,
   "metadata": {
    "collapsed": false
   },
   "outputs": [
    {
     "name": "stdout",
     "output_type": "stream",
     "text": [
      "65\n"
     ]
    }
   ],
   "source": [
    "#interviewcake 1\n",
    "import numpy as np\n",
    "a = [10,4,5,7,2,44,66]\n",
    "i=a.index(max(a))\n",
    "j = a.index(min(a))\n",
    "k = np.array(a)\n",
    "print max(k-1)"
   ]
  },
  {
   "cell_type": "code",
   "execution_count": 54,
   "metadata": {
    "collapsed": false
   },
   "outputs": [
    {
     "name": "stdout",
     "output_type": "stream",
     "text": [
      "[8, 2, 3, 5, 0, 42, 64]\n"
     ]
    }
   ],
   "source": [
    "b=[]\n",
    "for i in k:\n",
    "    b.append(max(i-k))\n",
    "    \n",
    "print b\n",
    "    "
   ]
  },
  {
   "cell_type": "code",
   "execution_count": 61,
   "metadata": {
    "collapsed": false
   },
   "outputs": [],
   "source": [
    "#interviewcake 1 final code\n",
    "stock_prices_yesterday = [10, 7, 5, 8, 11, 9]\n",
    "\n",
    "def get_max_profit(stock_prices_yesterday):\n",
    "    import numpy as np\n",
    "    b=[]\n",
    "    n = np.array(stock_prices_yesterday)\n",
    "    for i in n:\n",
    "    \tb.append(max(i-n))\n",
    "                 \n",
    "    return b\n",
    "\n",
    "c= get_max_profit(stock_prices_yesterday)\n",
    "print max(c)"
   ]
  },
  {
   "cell_type": "code",
   "execution_count": 71,
   "metadata": {
    "collapsed": false
   },
   "outputs": [
    {
     "data": {
      "text/plain": [
       "array([10,  5,  7,  2, 44, 66])"
      ]
     },
     "execution_count": 71,
     "metadata": {},
     "output_type": "execute_result"
    }
   ],
   "source": [
    "#interviewcake 2\n",
    "np.delete(k,1)"
   ]
  },
  {
   "cell_type": "code",
   "execution_count": 75,
   "metadata": {
    "collapsed": false
   },
   "outputs": [
    {
     "name": "stdout",
     "output_type": "stream",
     "text": [
      "[84, 12, 28, 21]\n"
     ]
    }
   ],
   "source": [
    "#interviewcake 2 final code\n",
    "def product_101(num_list):\n",
    "    a= np.array(num_list)\n",
    "    b=[]\n",
    "    for i in range(len(a)):\n",
    "        b.append(np.prod(np.delete(a,i)))\n",
    "        \n",
    "    return b\n",
    "\n",
    "num_list=[1,7,3,4]\n",
    "c = product_101(num_list)\n",
    "print c\n",
    "        "
   ]
  },
  {
   "cell_type": "code",
   "execution_count": 74,
   "metadata": {
    "collapsed": false
   },
   "outputs": [
    {
     "data": {
      "text/plain": [
       "[0, 1, 2, 3]"
      ]
     },
     "execution_count": 74,
     "metadata": {},
     "output_type": "execute_result"
    }
   ],
   "source": [
    "range(len(num_list))"
   ]
  },
  {
   "cell_type": "code",
   "execution_count": null,
   "metadata": {
    "collapsed": true
   },
   "outputs": [],
   "source": []
  }
 ],
 "metadata": {
  "kernelspec": {
   "display_name": "Python 2",
   "language": "python",
   "name": "python2"
  },
  "language_info": {
   "codemirror_mode": {
    "name": "ipython",
    "version": 2
   },
   "file_extension": ".py",
   "mimetype": "text/x-python",
   "name": "python",
   "nbconvert_exporter": "python",
   "pygments_lexer": "ipython2",
   "version": "2.7.10"
  }
 },
 "nbformat": 4,
 "nbformat_minor": 0
}
